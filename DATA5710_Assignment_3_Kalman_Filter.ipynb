{
  "nbformat": 4,
  "nbformat_minor": 5,
  "metadata": {
    "kernelspec": {
      "display_name": "Python 3",
      "language": "python",
      "name": "python3"
    },
    "language_info": {
      "codemirror_mode": {
        "name": "ipython",
        "version": 3
      },
      "file_extension": ".py",
      "mimetype": "text/x-python",
      "name": "python",
      "nbconvert_exporter": "python",
      "pygments_lexer": "ipython3",
      "version": "3.9.1"
    },
    "colab": {
      "name": "DATA5710 - Assignment 3 - Kalman Filter.ipynb",
      "provenance": [],
      "collapsed_sections": [],
      "include_colab_link": true
    }
  },
  "cells": [
    {
      "cell_type": "markdown",
      "metadata": {
        "id": "view-in-github",
        "colab_type": "text"
      },
      "source": [
        "<a href=\"https://colab.research.google.com/github/megannguyen6898/DATA-5710-Megan-Nguyen/blob/main/DATA5710_Assignment_3_Kalman_Filter.ipynb\" target=\"_parent\"><img src=\"https://colab.research.google.com/assets/colab-badge.svg\" alt=\"Open In Colab\"/></a>"
      ]
    },
    {
      "cell_type": "markdown",
      "metadata": {
        "id": "powerful-place"
      },
      "source": [
        "# DATA5710 - Assignment 3\n",
        "\n",
        "## Time Series and Longitudinal Models, State Space Models and Random Effects"
      ],
      "id": "powerful-place"
    },
    {
      "cell_type": "markdown",
      "metadata": {
        "id": "parliamentary-clarity"
      },
      "source": [
        "**Semester 1, 6 April 2021**\n",
        "\n",
        "\n",
        "\n",
        "Lecturers and Tutors: Robert Kohn and Gilad Francis"
      ],
      "id": "parliamentary-clarity"
    },
    {
      "cell_type": "markdown",
      "metadata": {
        "id": "opposite-interview"
      },
      "source": [
        "## Background Description\n",
        "\n",
        "We are building an aircraft tracking system using a Kalman filter.\n",
        "\n",
        "Below you can find a simulator that update the state of the tracked object and provide noisy observations:\n",
        "1. The simulator internal state such as the TRUE speed and location of the object are unknown to you.\n",
        "2. Observations of object are distance and direction from a given observation location (label as observer_coords).\n",
        "\n",
        "Exercise 1 - Constant speed, changing direction, normal noise location model:\n",
        "Code a Kalman filter that returns an estimate of the object location. Add the Filter update to loop (replace \"TODO\")\n",
        "Make whatever assumptions you deem necessary commenting on the justifications.\n",
        "You are encouraged to re-use most of the code from the tutorials and deliver this python notebook as a completed file\n",
        "with your analysis.\n",
        "Note that for Exercise #1, you can as\n",
        "\n",
        "Exercise 2 - Constant speed, changing direction:\n",
        "Similar to #1, however normal noise is added to direct observations (distance and angle).\n",
        "2.a Explain the difference in noise mechanism\n",
        "2.b Compare your filter performance in this scenario. What are the difference (if\n",
        " any) and why. (no change required in your filter code).\n",
        "\n",
        "Exercise 3:\n",
        "The tracked object can accelerate!\n",
        "Compare your filter performance in this scenario. What are the difference (if any) and why.\n",
        "What changes to the filter would improve the performance? (no need to code changes)\n"
      ],
      "id": "opposite-interview"
    },
    {
      "cell_type": "code",
      "metadata": {
        "pycharm": {
          "name": "#%%\n"
        },
        "id": "aUUEnGijd8Cd"
      },
      "source": [
        "import numpy as np\n",
        "import matplotlib.pyplot as plt"
      ],
      "id": "aUUEnGijd8Cd",
      "execution_count": null,
      "outputs": []
    },
    {
      "cell_type": "code",
      "metadata": {
        "pycharm": {
          "name": "#%%\n"
        },
        "id": "OYwqFvkbd8Ce"
      },
      "source": [
        "class simulator(object):\n",
        "\n",
        "    def __init__(self, d_noise=0.3, theta_noise=0.2, acceleration_sigma=0.1,\n",
        "                 accelerate=False, noise_type='normal'):\n",
        "\n",
        "        self.p_ = np.random.randn(2,)\n",
        "        self.v_ = 0.5 + 0.5*np.random.rand(1)\n",
        "        self.a_ = 0.1 + 0.1*np.random.rand(1)\n",
        "        self.a_sigma = acceleration_sigma\n",
        "        self.theta_ = np.pi * np.random.rand(1)\n",
        "\n",
        "        self.d_noise_ = d_noise\n",
        "        self.coord_noise_ = d_noise/3\n",
        "        self.theta_noise_ = theta_noise*np.pi/180.\n",
        "        self.acc_ = accelerate\n",
        "        self.noise_type_ = noise_type\n",
        "\n",
        "    def true_p(self):\n",
        "        return self.p_.copy()\n",
        "\n",
        "    def observe(self, observer_p = np.array([-5.,-5.])):\n",
        "        #Assumes an observer\n",
        "\n",
        "        if self.noise_type_=='distance':\n",
        "\n",
        "            obs_vec = self.p_ - observer_p\n",
        "            d_ = np.linalg.norm(obs_vec)\n",
        "            d_obs = np.random.normal(d_, self.d_noise_)\n",
        "            d_obs = np.clip(d_obs, 0.1, None)  #prevent negative values\n",
        "            angle_ = np.arctan2(obs_vec[1], obs_vec[0])\n",
        "            angle_obs = np.random.normal(angle_, self.theta_noise_)\n",
        "        elif self.noise_type_=='normal':\n",
        "\n",
        "            p_observed = np.random.normal(self.p_, self.coord_noise_)\n",
        "            obs_vec = p_observed - observer_p\n",
        "            d_obs =  np.linalg.norm(obs_vec)\n",
        "            angle_obs = np.arctan2(obs_vec[1], obs_vec[0])\n",
        "\n",
        "        else:\n",
        "            raise ValueError(f'Undefined noise model {self.noise_type_}')\n",
        "        return d_obs, angle_obs\n",
        "\n",
        "    def step(self, dt=1.):\n",
        "\n",
        "        self.theta_ += np.pi/30.*np.random.randn(1)\n",
        "        v = np.array([self.v_*np.cos(self.theta_), self.v_*np.sin(self.theta_)]).squeeze()\n",
        "        self.p_ += v * dt\n",
        "        if self.acc_:\n",
        "            #Resample acceleration\n",
        "            self.a_ += self.a_sigma*np.random.randn(1)\n",
        "            self.v_ += self.a_*dt\n",
        "            self.p_ += 0.5*self.a_*dt*dt\n"
      ],
      "id": "OYwqFvkbd8Ce",
      "execution_count": null,
      "outputs": []
    },
    {
      "cell_type": "code",
      "metadata": {
        "id": "LSO_P_fFWvUL"
      },
      "source": [
        "def kalman_gain(P, C, sigma):\n",
        "    K_n = P.dot(C.transpose()).dot(\n",
        "        np.linalg.inv(\n",
        "            C.dot(P).dot(C.transpose()) + sigma\n",
        "        )\n",
        "    )\n",
        "    return K_n\n",
        "\n",
        "##P is mean squared error of true locations (coords) at time t given observations of direction and angle (observer_coords)\n",
        "#C is relationship between unknown state and observations\n",
        "#sigma is the noise when we predict the angle and directions from the true location "
      ],
      "id": "LSO_P_fFWvUL",
      "execution_count": null,
      "outputs": []
    },
    {
      "cell_type": "code",
      "metadata": {
        "id": "qG9RWpM4X_V9"
      },
      "source": [
        "def kalman_predict(mu, V, A, gamma, drift):\n",
        "    #mu and V are the mean and variance of previous state, drfit from t-1 to t, given observations at time t-1\n",
        "    #mu_p is the mean of state at time t given the observations at time t-1\n",
        "    #A is to update unknown state to time t\n",
        "    #gamma is noise of variance of true location at previous time t-1\n",
        "    #drift is noise of true location at previous time t-1\n",
        "    mu_p = A.dot(mu) + drift\n",
        "    P_p = np.diag(\n",
        "        np.diag(\n",
        "            A.dot(V).dot(A.transpose())\n",
        "        )\n",
        "    ) + gamma\n",
        "    return mu_p, P_p"
      ],
      "id": "qG9RWpM4X_V9",
      "execution_count": null,
      "outputs": []
    },
    {
      "cell_type": "code",
      "metadata": {
        "id": "_B0YBrJxX_3V"
      },
      "source": [
        "def kalman_update(x_n, mu_p, P_p, C, sigma):\n",
        "    #mu_p and P_p are the mean and variance of observations (observer_coords) after we predict the unknown state at time t\n",
        "    #mu_n is the updated mean of unknowne state at time t given observations at time t\n",
        "    K_n = kalman_gain(P_p, C, sigma)\n",
        "    mu_n = x_n + K_n.dot(mu_p - C.dot(x_n))\n",
        "    V_n = P_p - K_n.dot(C).dot(P_p)\n",
        "    return mu_n, V_n"
      ],
      "id": "_B0YBrJxX_3V",
      "execution_count": null,
      "outputs": []
    },
    {
      "cell_type": "code",
      "metadata": {
        "pycharm": {
          "name": "#%%\n"
        },
        "id": "BAccA2IFd8Cg",
        "outputId": "377b1dbb-27e8-4402-ea22-b263ec52dd5a"
      },
      "source": [
        "#Exercise 1\n",
        "#Constant speed, changing direction  - Normal noise in location\n",
        "\n",
        "sim = simulator()\n",
        "observer_coords = np.array([-5.,-5.])\n",
        "V = np.identity(2)*0.2 #variance of previous state \n",
        "A = np.identity(2) #to update step at time t-1\n",
        "C = np.identity(2) #the relationship between unknown state and observations\n",
        "coords = [] \n",
        "coords_obs = []\n",
        "estimations = [] #kalman filter predictions\n",
        "for i in range(10):\n",
        "\n",
        "    drift = sim.step(self.p_)\n",
        "    x_n = coords.append(sim.true_p()) #true location (unknown state) at time t-1\n",
        "    d_obs, angle_obs = sim.observe(noise_type_=='normal',observer_coords)\n",
        "\n",
        "    v_sigma = 0 \n",
        "    sigma = C * v_sigma #since we only consider noise in true location\n",
        "    gamma = coord_noise #since this reflects the noise of true location\n",
        "    \n",
        "    #let observer_p be the location at time t-1 given observations at time t-1\n",
        "    #we use kalman filter to predict observations at time t from unknown state we predict at time t\n",
        "    obs_p, var_p = kalman_predict(observer_p, V, A, drift, gamma)\n",
        "    #true location at time t-1\n",
        "    Z_t = coords[i].transpose()\n",
        "    Z_t = Z_t.reshape(Z_t.shape[0], -1)\n",
        "    #we update the unknown state at time t given observations at time t and true location of t-1\n",
        "    obs_t, var_t = kalman_update(obs_p, Z_t, var_p, C, sigma)\n",
        "    \n",
        "    obs_p=obs_t\n",
        "    var_p=var_t\n",
        "    estimations.append(obs_p.transpose())\n",
        "    \n",
        "coords = np.asarray(coords).squeeze()\n",
        "coords_obs = np.asarray(coords_obs).squeeze()\n",
        "estimations = np.vstack(estimations)\n",
        "pl.plot(estimations[:,0], estimations[:,1], 'X-', color='g', label='Kalman Filter')\n",
        "plt.plot(coords[:,0], coords[:,1], 'o-',  label='True Position')\n",
        "plt.plot(coords_obs[:,0], coords_obs[:,1], '*-', label='Observed Position')\n",
        "plt.xlabel('X')\n",
        "plt.ylabel('Y')\n",
        "plt.legend()\n",
        "plt.title('Exercise 1 - Noise on location')\n",
        "#Todo: plt Kalman filter estimates"
      ],
      "id": "BAccA2IFd8Cg",
      "execution_count": null,
      "outputs": [
        {
          "output_type": "execute_result",
          "data": {
            "text/plain": [
              "Text(0.5, 1.0, 'Exercise 1 - Noise on pose')"
            ]
          },
          "metadata": {
            "tags": []
          },
          "execution_count": 171
        },
        {
          "output_type": "display_data",
          "data": {
            "text/plain": [
              "<Figure size 432x288 with 1 Axes>"
            ],
            "image/png": "[encoded data removed]"
          },
          "metadata": {
            "tags": [],
            "needs_background": "light"
          }
        }
      ]
    },
    {
      "cell_type": "code",
      "metadata": {
        "pycharm": {
          "name": "#%%\n"
        },
        "id": "HPJ8J90ud8Ci",
        "outputId": "563cc899-0ef3-4ae9-b519-bbd0b2783265"
      },
      "source": [
        "#Exercise 2\n",
        "#Constant speed, changing direction  (same as Exercise 1) -\n",
        "# Normal noise on distance and angle observations\n",
        "\n",
        "sim2 = simulator(noise_type='distance')\n",
        "observer_coords = np.array([-5.,-5.])\n",
        "V = np.identity(2)*0.2 #variance of previous state \n",
        "A = np.identity(2) #to update step at time t-1\n",
        "C = np.identity(2) #the relationship between unknown state and observations\n",
        "\n",
        "coords = []\n",
        "coords_obs = []\n",
        "estimations = [] #kalman filter predictions\n",
        "\n",
        "for i in range(10):\n",
        "\n",
        "    drfit = sim2.step(self.p_)\n",
        "    x_n = coords.append(sim2.true_p())\n",
        "\n",
        "    d_obs, angle_obs = sim2.observe(noise_type_=='distance',observer_coords)\n",
        "\n",
        "    v_sigma = theta_noise #since this reflects noise in direction\n",
        "    sigma = C * v_sigma \n",
        "    gamma = 0 #since we no longer consider the noise of true location\n",
        "    \n",
        "    #let observer_p be the location at time t-1 given observations at time t-1\n",
        "    #we use kalman filter to predict observations at time t from unknown state we predict at time t\n",
        "    obs_p, var_p = kalman_predict(observer_p, V, A, drift, gamma)\n",
        "    #true location at time t-1\n",
        "    Z_t = coords[i].transpose()\n",
        "    Z_t = Z_t.reshape(Z_t.shape[0], -1)\n",
        "    #we update the unknown state at time t given observations at time t and true location of t-1\n",
        "    obs_t, var_t = kalman_update(obs_p, Z_t, var_p, C, sigma)\n",
        "    \n",
        "    obs_p=obs_t\n",
        "    var_p=var_t\n",
        "    estimations.append(obs_p.transpose())\n",
        "\n",
        "coords = np.asarray(coords).squeeze()\n",
        "coords_obs = np.asarray(coords_obs).squeeze()\n",
        "estimations = np.vstack(estimations)\n",
        "pl.plot(estimations[:,0], estimations[:,1], 'X-', color='g', label='Kalman Filter')\n",
        "plt.plot(coords[:,0], coords[:,1], 'o-',  label='True Position')\n",
        "plt.plot(coords_obs[:,0], coords_obs[:,1], '*-', label='Observed Position')\n",
        "plt.xlabel('X')\n",
        "plt.ylabel('Y')\n",
        "plt.legend()\n",
        "plt.title('Exercise 2 - Noise on distance and angle observations')\n",
        "#Todo: plt Kalman filter estimates"
      ],
      "id": "HPJ8J90ud8Ci",
      "execution_count": null,
      "outputs": [
        {
          "output_type": "execute_result",
          "data": {
            "text/plain": [
              "Text(0.5, 1.0, 'Exercise 2 - Noise on distance and angle observations')"
            ]
          },
          "metadata": {
            "tags": []
          },
          "execution_count": 172
        },
        {
          "output_type": "display_data",
          "data": {
            "text/plain": [
              "<Figure size 432x288 with 1 Axes>"
            ],
            "image/png": "[encoded data removed]"
          },
          "metadata": {
            "tags": [],
            "needs_background": "light"
          }
        }
      ]
    },
    {
      "cell_type": "code",
      "metadata": {
        "pycharm": {
          "name": "#%%\n"
        },
        "id": "i85Idfiyd8Cj",
        "outputId": "ef1e45f5-0633-4646-cc0e-dcc1795f71f6"
      },
      "source": [
        "#Exercise 3. Acceleration\n",
        "#If tracked object accelerates, we need to account for the changes in true speed by accounting for acceleration in step for the true state\n",
        "\n",
        "sim3 = simulator(accelerate=True)\n",
        "observer_coords = np.array([-5.,-5.])\n",
        "V = np.identity(2)*0.2 #variance of previous state \n",
        "A = np.identity(2) #to update step at time t-1\n",
        "C = np.identity(2) #the relationship between unknown state and observations\n",
        "\n",
        "coords = []\n",
        "coords_obs = []\n",
        "estimations = [] #kalman filter predictions\n",
        "\n",
        "for i in range(10):\n",
        "\n",
        "    drfit = sim3.step(self.acc_)\n",
        "    x_n = coords.append(sim3.true_p())\n",
        "\n",
        "    d_obs, angle_obs = sim3.observe(observer_coords)\n",
        "\n",
        "#Since object accelerates, there will be noise in both observations and true location\n",
        "    v_sigma = theta_noise #since this reflects noise in direction\n",
        "    sigma = C * v_sigma \n",
        "    gamma = coord_noise\n",
        "    \n",
        "    #let observer_p be the location at time t-1 given observations at time t-1\n",
        "    #we use kalman filter to predict observations at time t from unknown state we predict at time t\n",
        "    obs_p, var_p = kalman_predict(observer_p, V, A, drift, gamma)\n",
        "    #true location at time t-1\n",
        "    Z_t = coords[i].transpose()\n",
        "    Z_t = Z_t.reshape(Z_t.shape[0], -1)\n",
        "    #we update the unknown state at time t given observations at time t and true location of t-1\n",
        "    obs_t, var_t = kalman_update(obs_p, Z_t, var_p, C, sigma)\n",
        "    \n",
        "    obs_p=obs_t\n",
        "    var_p=var_t\n",
        "    estimations.append(obs_p.transpose())\n",
        "\n",
        "\n",
        "coords = np.asarray(coords).squeeze()\n",
        "coords_obs = np.asarray(coords_obs).squeeze()\n",
        "estimations = np.vstack(estimations)\n",
        "pl.plot(estimations[:,0], estimations[:,1], 'X-', color='g', label='Kalman Filter')\n",
        "plt.plot(coords[:,0], coords[:,1], 'o-',  label='True Position')\n",
        "plt.plot(coords_obs[:,0], coords_obs[:,1], '*-', label='Observed Position')\n",
        "plt.xlabel('X')\n",
        "plt.ylabel('Y')\n",
        "plt.legend()\n",
        "plt.title('Exercise 3 - Acceleration')"
      ],
      "id": "i85Idfiyd8Cj",
      "execution_count": null,
      "outputs": [
        {
          "output_type": "execute_result",
          "data": {
            "text/plain": [
              "Text(0.5, 1.0, 'Exercise 3 - Acceleration')"
            ]
          },
          "metadata": {
            "tags": []
          },
          "execution_count": 173
        },
        {
          "output_type": "display_data",
          "data": {
            "text/plain": [
              "<Figure size 432x288 with 1 Axes>"
            ],
            "image/png": "[encoded data removed]"
          },
          "metadata": {
            "tags": [],
            "needs_background": "light"
          }
        }
      ]
    },
    {
      "cell_type": "code",
      "metadata": {
        "pycharm": {
          "name": "#%%\n"
        },
        "id": "j6aM_SzYd8Ck"
      },
      "source": [
        ""
      ],
      "id": "j6aM_SzYd8Ck",
      "execution_count": null,
      "outputs": []
    }
  ]
}